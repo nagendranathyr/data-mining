{
  "nbformat": 4,
  "nbformat_minor": 0,
  "metadata": {
    "kernelspec": {
      "display_name": "Python 2",
      "language": "python",
      "name": "python2"
    },
    "language_info": {
      "codemirror_mode": {
        "name": "ipython",
        "version": 2
      },
      "file_extension": ".py",
      "mimetype": "text/x-python",
      "name": "python",
      "nbconvert_exporter": "python",
      "pygments_lexer": "ipython2",
      "version": "2.7.10"
    },
    "colab": {
      "name": "Frequent Patterns.ipynb",
      "provenance": [],
      "collapsed_sections": [
        "_ohpBHhjP3mK",
        "w_77WwTSP3mK"
      ]
    }
  },
  "cells": [
    {
      "cell_type": "code",
      "metadata": {
        "id": "HMneCbahP3lx"
      },
      "source": [
        "from IPython.core.interactiveshell import InteractiveShell\n",
        "InteractiveShell.ast_node_interactivity = \"all\"\n",
        "%matplotlib inline"
      ],
      "execution_count": null,
      "outputs": []
    },
    {
      "cell_type": "markdown",
      "metadata": {
        "id": "XoExuFHgP3ly"
      },
      "source": [
        "# Hand-computing support and confidence"
      ]
    },
    {
      "cell_type": "code",
      "metadata": {
        "id": "el4jfs63P3ly"
      },
      "source": [
        "from sympy import *                 #sympy is symbol python library.\n",
        "from itertools import combinations  #To compute support and confidence, we need combination of attributes. To do this combinations is useful.\n",
        "#init_printing()"
      ],
      "execution_count": null,
      "outputs": []
    },
    {
      "cell_type": "markdown",
      "metadata": {
        "id": "TCKJJ-87P3ly"
      },
      "source": [
        "I want to generate k-subsets from a given set."
      ]
    },
    {
      "cell_type": "code",
      "metadata": {
        "id": "r0hOTpv2P3ly"
      },
      "source": [
        "def subsets(S, k):\n",
        "  return [set(s)\n",
        "    for s in combinations(S, k)]  #Set S and subset size k are passed to combinations. This function returns list of subsets, where each subset is of size k.\n",
        "                                  #set(s) returns each group of elements in set format.\n",
        "                                  #So, subsets function is returning list of sets of size k."
      ],
      "execution_count": null,
      "outputs": []
    },
    {
      "cell_type": "code",
      "metadata": {
        "colab": {
          "base_uri": "https://localhost:8080/"
        },
        "id": "GrOcQr3TP3lz",
        "outputId": "6e3c8991-5897-441e-8388-c4be2079fd3e"
      },
      "source": [
        "subsets({1, 2, 3}, 2)"
      ],
      "execution_count": null,
      "outputs": [
        {
          "output_type": "execute_result",
          "data": {
            "text/plain": [
              "[{1, 2}, {1, 3}, {2, 3}]"
            ]
          },
          "metadata": {
            "tags": []
          },
          "execution_count": 4
        }
      ]
    },
    {
      "cell_type": "markdown",
      "metadata": {
        "id": "9wMUmTZ4P3l1"
      },
      "source": [
        "And sometimes I want to print a list, each on its own line:"
      ]
    },
    {
      "cell_type": "code",
      "metadata": {
        "id": "itJFPVT2P3l1"
      },
      "source": [
        "def print_all(iterable):\n",
        "  for item in iterable:\n",
        "    print(item)"
      ],
      "execution_count": null,
      "outputs": []
    },
    {
      "cell_type": "code",
      "metadata": {
        "colab": {
          "base_uri": "https://localhost:8080/"
        },
        "id": "1I75NLMHP3l1",
        "outputId": "ac28ac4f-fe39-498a-f267-dc28eb6378b4"
      },
      "source": [
        "print_all([1, 2, 3, 4, 5])"
      ],
      "execution_count": null,
      "outputs": [
        {
          "output_type": "stream",
          "text": [
            "1\n",
            "2\n",
            "3\n",
            "4\n",
            "5\n"
          ],
          "name": "stdout"
        }
      ]
    },
    {
      "cell_type": "markdown",
      "metadata": {
        "id": "feeb8p0sP3l1"
      },
      "source": [
        "Now, let's talk about __association rule mining__."
      ]
    },
    {
      "cell_type": "markdown",
      "metadata": {
        "id": "PwlcZJ8XP3l1"
      },
      "source": [
        "In association rule mining, we try to discover rules based on item sets.\n",
        "\n",
        "Our input data is a list of _transactions_. Each transaction contains a set of items (called an _itemset_).\n",
        "For example, this table represents the set of items bought by a customer in a single transaction:\n",
        "\n",
        "| TID | Items |\n",
        "| --- | ----- |\n",
        "| 1 | Bread, Milk |\n",
        "| 2 | Bread, Diaper, Beer, Eggs |\n",
        "| 3 | Milk, Diaper, Beer, Coke |\n",
        "| 4 | Bread, Milk, Diaper, Beer |\n",
        "| 4 | Bread, Milk, Diaper, Coke |"
      ]
    },
    {
      "cell_type": "code",
      "metadata": {
        "id": "Z8qfTV2LP3l2"
      },
      "source": [
        "T = [\n",
        " {'Bread', 'Milk'},\n",
        " {'Beer', 'Bread', 'Diaper', 'Eggs'},\n",
        " {'Beer', 'Coke', 'Diaper', 'Milk'},\n",
        " {'Beer', 'Bread', 'Diaper', 'Milk'},\n",
        " {'Bread', 'Coke', 'Diaper', 'Milk'},\n",
        "]\n",
        "#Transactional Data is represented as a list of sets."
      ],
      "execution_count": null,
      "outputs": []
    },
    {
      "cell_type": "markdown",
      "metadata": {
        "id": "TI8__mvzP3l2"
      },
      "source": [
        "We use them to find association rules, such as:\n",
        "\n",
        "$$ \\{\\text{Milk}, \\text{Bread}\\} \\Rightarrow \\{\\text{Eggs}, \\text{Coke}\\} $$\n",
        "\n",
        "Which means that if a customer buys Milk and Bread, it is likely that they will buy Eggs and Coke as well."
      ]
    },
    {
      "cell_type": "markdown",
      "metadata": {
        "id": "JGn3fbUFP3l2"
      },
      "source": [
        "Itemsets\n",
        "========\n",
        "\n",
        "An _itemset_ is simply a set of items, such as $\\{ \\text{Milk}, \\text{Bread}, \\text{Eggs} \\}$.\n",
        "\n",
        "The frequency of occurrence of an _itemset_ is called support count.\n",
        "\n",
        "$$ \\sigma(X) = \\|\\{ x \\in T \\:|\\: X \\subseteq x \\}\\| $$"
      ]
    },
    {
      "cell_type": "code",
      "metadata": {
        "id": "8bM3Fw8JP3l2"
      },
      "source": [
        "def support_count(X, T):\n",
        "  return (sum(1 for Y in T if X <= Y))\n",
        "# X <= Y means test whether X is subset of Y.\n",
        "# These symbolic operations are given by \"sympy\".\n",
        "\n",
        "\n",
        "# s | t new set with elements from both s and t\n",
        "# s & t new set with elements common to s and t\n",
        "# s - t new set with elements in s but not in t\n",
        "# s ^ t new set with elements in either s or t but not both"
      ],
      "execution_count": null,
      "outputs": []
    },
    {
      "cell_type": "code",
      "metadata": {
        "colab": {
          "base_uri": "https://localhost:8080/"
        },
        "id": "we7c79uTP3l2",
        "outputId": "ef94b806-caae-4e0b-e2a8-c9bf2ac858f4"
      },
      "source": [
        "support_count({'Milk', 'Bread', 'Diaper'}, T)\n",
        "print(\"\\n\")\n",
        "support_count({'Coke', 'Milk'}, T)\n",
        "print(\"\\n\")\n",
        "support_count({}, T)"
      ],
      "execution_count": null,
      "outputs": [
        {
          "output_type": "execute_result",
          "data": {
            "text/plain": [
              "2"
            ]
          },
          "metadata": {
            "tags": []
          },
          "execution_count": 9
        },
        {
          "output_type": "stream",
          "text": [
            "\n",
            "\n"
          ],
          "name": "stdout"
        },
        {
          "output_type": "execute_result",
          "data": {
            "text/plain": [
              "2"
            ]
          },
          "metadata": {
            "tags": []
          },
          "execution_count": 9
        },
        {
          "output_type": "stream",
          "text": [
            "\n",
            "\n"
          ],
          "name": "stdout"
        },
        {
          "output_type": "execute_result",
          "data": {
            "text/plain": [
              "5"
            ]
          },
          "metadata": {
            "tags": []
          },
          "execution_count": 9
        }
      ]
    },
    {
      "cell_type": "markdown",
      "metadata": {
        "id": "a265XWlMP3l2"
      },
      "source": [
        "Support is the _proportion_ of transactions that contain an itemset.\n",
        "\n",
        "$$ s(X) = \\frac{\\sigma(X)}{\\|\\text{T}\\|} $$\n"
      ]
    },
    {
      "cell_type": "code",
      "metadata": {
        "id": "zbYG6_PgP3l2"
      },
      "source": [
        "def support(X, T):\n",
        "  return float(support_count(X, T)) / len(T)"
      ],
      "execution_count": null,
      "outputs": []
    },
    {
      "cell_type": "code",
      "metadata": {
        "colab": {
          "base_uri": "https://localhost:8080/"
        },
        "id": "bciDl197P3l2",
        "outputId": "af163011-5b00-445d-839e-3aeed01106c1"
      },
      "source": [
        "support({'Milk', 'Bread', 'Diaper'}, T)"
      ],
      "execution_count": null,
      "outputs": [
        {
          "output_type": "execute_result",
          "data": {
            "text/plain": [
              "0.4"
            ]
          },
          "metadata": {
            "tags": []
          },
          "execution_count": 11
        }
      ]
    },
    {
      "cell_type": "markdown",
      "metadata": {
        "id": "c2t7ODXkP3l2"
      },
      "source": [
        "If the _support_ is higher than a given ratio, it is called a _frequent itemset_."
      ]
    },
    {
      "cell_type": "markdown",
      "metadata": {
        "id": "qfU8zCghP3l2"
      },
      "source": [
        "Rules\n",
        "=====\n",
        "\n",
        "A rule is in form of $X \\Rightarrow Y$ where $X$ and $Y$ are itemsets. For example:\n",
        "\n",
        "$$ \\{ \\text{Milk}, \\text{Diaper} \\} \\Rightarrow \\{ \\text{Beer} \\} $$"
      ]
    },
    {
      "cell_type": "code",
      "metadata": {
        "id": "n15RvZUnP3l2"
      },
      "source": [
        "rule = ({'Milk', 'Diaper'}, {'Beer'})"
      ],
      "execution_count": null,
      "outputs": []
    },
    {
      "cell_type": "markdown",
      "metadata": {
        "id": "FvFaytT8P3l3"
      },
      "source": [
        "The _support_ of the rule is the fraction of transactions that contain both $X$ and $Y$.\n",
        "\n",
        "$$ s(X \\Rightarrow Y) = s(X \\cup Y) $$"
      ]
    },
    {
      "cell_type": "code",
      "metadata": {
        "id": "HjEeotySP3l3"
      },
      "source": [
        "def rule_support(rule, T):\n",
        "    (x, y)=rule\n",
        "    return support(x | y, T)"
      ],
      "execution_count": null,
      "outputs": []
    },
    {
      "cell_type": "code",
      "metadata": {
        "colab": {
          "base_uri": "https://localhost:8080/"
        },
        "id": "3zd3CJCRP3l3",
        "outputId": "d93d8f4c-5649-4473-ff80-db9dd1cdda84"
      },
      "source": [
        "rule_support(rule, T)"
      ],
      "execution_count": null,
      "outputs": [
        {
          "output_type": "execute_result",
          "data": {
            "text/plain": [
              "0.4"
            ]
          },
          "metadata": {
            "tags": []
          },
          "execution_count": 20
        }
      ]
    },
    {
      "cell_type": "markdown",
      "metadata": {
        "id": "SIFf0dL6P3l3"
      },
      "source": [
        "The _confidence_ of the rule tells you how many transactions that contains $X$ also contains $Y$ (in form of proportion).\n",
        "\n",
        "$$ c(X \\Rightarrow Y) = \\frac{\\sigma(X \\cup Y)}{\\sigma(X)} \\left(= \\frac{s(X \\Rightarrow Y)}{s(X)}\\right) $$"
      ]
    },
    {
      "cell_type": "code",
      "metadata": {
        "id": "SZgwuf5lP3l3"
      },
      "source": [
        "def rule_confidence(rule, T):\n",
        "    (x, y)=rule\n",
        "    return (float(support_count(x | y, T))\n",
        "        / support_count(x, T))"
      ],
      "execution_count": null,
      "outputs": []
    },
    {
      "cell_type": "code",
      "metadata": {
        "colab": {
          "base_uri": "https://localhost:8080/"
        },
        "id": "Pghhm-pwP3l3",
        "outputId": "3cee0846-8b99-4d91-ab93-cc42939a9ead"
      },
      "source": [
        "rule_confidence(rule, T)"
      ],
      "execution_count": null,
      "outputs": [
        {
          "output_type": "execute_result",
          "data": {
            "text/plain": [
              "0.6666666666666666"
            ]
          },
          "metadata": {
            "tags": []
          },
          "execution_count": 22
        }
      ]
    },
    {
      "cell_type": "markdown",
      "metadata": {
        "id": "9JKem9YqP3mJ"
      },
      "source": [
        "Association Rule Mining\n",
        "=======================\n",
        "\n",
        "In association rule mining, we want to find all rules that has enough _support_ and _confidence_. In other words, we want to find $\\{ X \\Rightarrow Y \\:|\\: s(X \\Rightarrow Y) > s_{min}, c(X \\Rightarrow Y) > c_{min} \\}$.\n",
        "\n",
        "We are using 2-step approach:\n",
        "\n",
        "- First, finding frequent itemsets with enough support.\n",
        "    - For example, $\\{A, B, C\\}$\n",
        "- Then, generate rules from these itemsets.\n",
        "    - We can generate rules by finding binary partitions of a given itemset.\n",
        "    - For example, from $\\{A, B, C\\}$, we can generate 6 rules:\n",
        "    - Note that support of these rules are all the same.\n",
        "    - We then select only the rules with enough confidence.\n",
        "        - $\\{A\\} \\Rightarrow \\{C,B\\}$\n",
        "        - $\\{C\\} \\Rightarrow \\{A,B\\}$\n",
        "        - $\\{B\\} \\Rightarrow \\{A,C\\}$\n",
        "        - $\\{A,C\\} \\Rightarrow \\{B\\}$\n",
        "        - $\\{A,B\\} \\Rightarrow \\{C\\}$\n",
        "        - $\\{C,B\\} \\Rightarrow \\{A\\}$\n",
        "\n",
        "Let's forget about finding frequent itemsets for now; let's assume we were already given frequent itemsets."
      ]
    },
    {
      "cell_type": "code",
      "metadata": {
        "id": "uG3DjsFBP3mJ"
      },
      "source": [
        "T = [\n",
        " {'A', 'B', 'E'},\n",
        " {'B', 'D'},\n",
        " {'B', 'C'},\n",
        " {'A', 'B', 'D'},\n",
        " {'A', 'C'},\n",
        " {'B', 'C'},\n",
        " {'A', 'C'},\n",
        " {'A', 'B', 'C', 'E'},\n",
        " {'A', 'B', 'C'},\n",
        "]\n",
        "\n",
        "cmin = 0.5"
      ],
      "execution_count": null,
      "outputs": []
    },
    {
      "cell_type": "markdown",
      "metadata": {
        "id": "JBKtC4clP3mJ"
      },
      "source": [
        "Given a Frequent Itemset\n",
        "------------------------\n",
        "\n",
        "We can use a naive algorithm:"
      ]
    },
    {
      "cell_type": "code",
      "metadata": {
        "id": "PFESwPFvP3mJ"
      },
      "source": [
        "# frequent itemset `l`\n",
        "def find_rules(l, T):\n",
        "  rules = []\n",
        "  for n in range(1, len(l)):\n",
        "    for c in subsets(l, n):\n",
        "      rule = (set(c), l - set(c))\n",
        "      if rule_confidence(rule, T) >= cmin:\n",
        "        rules.append(rule)\n",
        "  return rules"
      ],
      "execution_count": null,
      "outputs": []
    },
    {
      "cell_type": "markdown",
      "metadata": {
        "id": "U-UVsJ2YP3mJ"
      },
      "source": [
        "It just tries all \"binary partitions\" of the frequent itemset `l`, and only emits rules with enough confidence."
      ]
    },
    {
      "cell_type": "code",
      "metadata": {
        "id": "Kb42LxCOP3mK",
        "colab": {
          "base_uri": "https://localhost:8080/"
        },
        "outputId": "ab58061c-67fc-44b1-b003-b90e05ce5e58"
      },
      "source": [
        "[(rule, rule_confidence(rule, T))\n",
        "  for rule in find_rules({'A', 'B', 'E'}, T)]"
      ],
      "execution_count": null,
      "outputs": [
        {
          "output_type": "execute_result",
          "data": {
            "text/plain": [
              "[(({'E'}, {'A', 'B'}), 1.0),\n",
              " (({'A', 'B'}, {'E'}), 0.5),\n",
              " (({'A', 'E'}, {'B'}), 1.0),\n",
              " (({'B', 'E'}, {'A'}), 1.0)]"
            ]
          },
          "metadata": {
            "tags": []
          },
          "execution_count": 25
        }
      ]
    },
    {
      "cell_type": "markdown",
      "metadata": {
        "id": "_ohpBHhjP3mK"
      },
      "source": [
        "Without a Frequent Itemset\n",
        "--------------------------\n",
        "\n",
        "Now, recall about having to find the frequent itemsets. What should we do?\n",
        "\n",
        "For a large dataset, this is impractical. To find all the candidates, we must try all subsets of all items!\n",
        "If we have $d$ items, the number of subsets become $2^d$.\n",
        "See how fast it grows!\n",
        "What can we do to help?"
      ]
    },
    {
      "cell_type": "markdown",
      "metadata": {
        "id": "PXUTVZN7P3mK"
      },
      "source": [
        "Apriori Principle\n",
        "-----------------\n",
        "Apriori priciple says:\n",
        "_\"If an itemset is frequent, then all of its subsets must also be frequent.\"_\n",
        "\n",
        "From that, we know that if an itemset is _infrequent_, all its supersets are also infrequent.\n",
        "\n",
        "Again, let's use the example from the slides."
      ]
    },
    {
      "cell_type": "code",
      "metadata": {
        "id": "mlSpNnZKP3mK"
      },
      "source": [
        "T = [\n",
        "  {'A', 'C', 'D'},\n",
        "  {'B', 'C', 'E'},\n",
        "  {'A', 'B', 'C', 'E'},\n",
        "  {'B', 'E'},\n",
        "  {'A', 'B', 'C', 'E'}\n",
        "]\n",
        "\n",
        "smin = 0.4"
      ],
      "execution_count": null,
      "outputs": []
    },
    {
      "cell_type": "markdown",
      "metadata": {
        "id": "w_77WwTSP3mK"
      },
      "source": [
        "\n",
        "### Starting Small\n",
        "\n",
        "So here's our approach.\n",
        "\n",
        "- First, we find all frequent itemsets of size 1 (called _frequent 1-itemsets_).\n",
        "- Next, we \"prune\" itemsets whose support is too low.\n",
        "- Then, we generate frequent _2_-itemsets from the remaining 1-itemsets.\n",
        "- Again, we \"prune\" itemsets whose support is too low.\n",
        "- Increase the size and repeat.\n"
      ]
    },
    {
      "cell_type": "markdown",
      "metadata": {
        "id": "iEe8OBKBP3mK"
      },
      "source": [
        "### Generating Frequent 1-itemsets\n",
        "\n",
        "First, let's generate frequent 1-itemsets.\n",
        "Before that, I will create a function to union multiple sets."
      ]
    },
    {
      "cell_type": "code",
      "metadata": {
        "id": "RcFMQ2aZP3mK"
      },
      "source": [
        "def union_all(sets):\n",
        "  \"\"\"Finds the union of given sets.\"\"\"\n",
        "  result = set()\n",
        "  print(result)\n",
        "  for c in sets:\n",
        "    result = result | c\n",
        "  return result"
      ],
      "execution_count": null,
      "outputs": []
    },
    {
      "cell_type": "code",
      "metadata": {
        "colab": {
          "base_uri": "https://localhost:8080/"
        },
        "id": "f-27RS88P3mK",
        "outputId": "4b2582c2-0a58-4ae1-e246-6c1f58fccdcb"
      },
      "source": [
        "union_all([{1, 2}, {2, 3}])"
      ],
      "execution_count": null,
      "outputs": [
        {
          "output_type": "stream",
          "text": [
            "set([])\n"
          ],
          "name": "stdout"
        },
        {
          "output_type": "execute_result",
          "data": {
            "text/plain": [
              "{1, 2, 3}"
            ]
          },
          "metadata": {
            "tags": []
          },
          "execution_count": 28
        }
      ]
    },
    {
      "cell_type": "code",
      "metadata": {
        "id": "Gp6xHYOJP3mK",
        "colab": {
          "base_uri": "https://localhost:8080/"
        },
        "outputId": "c101859d-0aaa-416a-ae4a-93927c194378"
      },
      "source": [
        "union_all([])"
      ],
      "execution_count": null,
      "outputs": [
        {
          "output_type": "stream",
          "text": [
            "set([])\n"
          ],
          "name": "stdout"
        },
        {
          "output_type": "execute_result",
          "data": {
            "text/plain": [
              "set()"
            ]
          },
          "metadata": {
            "tags": []
          },
          "execution_count": 29
        }
      ]
    },
    {
      "cell_type": "markdown",
      "metadata": {
        "id": "_oMz1U_HP3mK"
      },
      "source": [
        "Now, some code to find frequent 1-itemsets:"
      ]
    },
    {
      "cell_type": "code",
      "metadata": {
        "id": "o1-G8Mn9P3mK"
      },
      "source": [
        "def frequent_1(T):\n",
        "  items = union_all(T)\n",
        "  print(\"Items:\",items)\n",
        "  return [{item}\n",
        "    for item in items\n",
        "      if support({item}, T) >= smin]"
      ],
      "execution_count": null,
      "outputs": []
    },
    {
      "cell_type": "code",
      "metadata": {
        "colab": {
          "base_uri": "https://localhost:8080/"
        },
        "id": "xgOmnlxmP3mK",
        "outputId": "a2161d69-9821-4fb4-ec74-7fdb66c88f61"
      },
      "source": [
        "L1 = frequent_1(T)\n",
        "L1"
      ],
      "execution_count": null,
      "outputs": [
        {
          "output_type": "stream",
          "text": [
            "set([])\n",
            "('Items:', set(['A', 'C', 'B', 'E', 'D']))\n"
          ],
          "name": "stdout"
        },
        {
          "output_type": "execute_result",
          "data": {
            "text/plain": [
              "[{'A'}, {'C'}, {'B'}, {'E'}]"
            ]
          },
          "metadata": {
            "tags": []
          },
          "execution_count": 31
        }
      ]
    },
    {
      "cell_type": "markdown",
      "metadata": {
        "id": "-xvMKZHmP3mK"
      },
      "source": [
        "As you see, \"D\" is eliminated from the candidates.\n",
        "That means any itemset with \"D\" in it will not be frequent enough."
      ]
    },
    {
      "cell_type": "markdown",
      "metadata": {
        "id": "Bx6Npwl7P3mL"
      },
      "source": [
        "### Expanding It\n",
        "\n",
        "Next, we generate frequent 2-itemsets from 1-itemsets.\n",
        "The easiest way to do it is to put these items together and select 2 items. First, we put them together:"
      ]
    },
    {
      "cell_type": "code",
      "metadata": {
        "colab": {
          "base_uri": "https://localhost:8080/"
        },
        "id": "C8RPfkt1P3mL",
        "outputId": "8585fcd8-f808-4354-fb1e-40b90d2090b6"
      },
      "source": [
        "union_all(L1)"
      ],
      "execution_count": null,
      "outputs": [
        {
          "output_type": "stream",
          "text": [
            "set([])\n"
          ],
          "name": "stdout"
        },
        {
          "output_type": "execute_result",
          "data": {
            "text/plain": [
              "{'A', 'B', 'C', 'E'}"
            ]
          },
          "metadata": {
            "tags": []
          },
          "execution_count": 32
        }
      ]
    },
    {
      "cell_type": "code",
      "metadata": {
        "colab": {
          "base_uri": "https://localhost:8080/"
        },
        "id": "h1tXPnsBP3mL",
        "outputId": "aad232a6-f640-4a90-d8eb-e772bb3db64f"
      },
      "source": [
        "C2 = subsets(_, 2)  #underscore means last result.\n",
        "print_all(C2)"
      ],
      "execution_count": null,
      "outputs": [
        {
          "output_type": "stream",
          "text": [
            "set(['A', 'C'])\n",
            "set(['A', 'B'])\n",
            "set(['A', 'E'])\n",
            "set(['C', 'B'])\n",
            "set(['C', 'E'])\n",
            "set(['B', 'E'])\n"
          ],
          "name": "stdout"
        }
      ]
    },
    {
      "cell_type": "markdown",
      "metadata": {
        "id": "JUCtJrIzP3mL"
      },
      "source": [
        "These are the candidate itemsets. But maybe... not all of them are frequent enough."
      ]
    },
    {
      "cell_type": "markdown",
      "metadata": {
        "id": "kd1r58BCP3mL"
      },
      "source": [
        "Now, for each candidate $c$ in `C2`,\n",
        "we must make sure at all of $c$'s 1-subset is in `L1`.\n",
        "Why? If one of $c$'s subset (let's call it $s$) is not in `L1`,\n",
        "it means that that $s$ has already been pruned, because $s$ is not frequent enough.\n",
        "Since $c$ is a superset of $s$, $c$ will also not be frequent enough."
      ]
    },
    {
      "cell_type": "code",
      "metadata": {
        "id": "uftmlIXuP3mL"
      },
      "source": [
        "def good_candidate(c, P):\n",
        "  for s in subsets(c, len(c) - 1):\n",
        "    if s not in P: \n",
        "        return false\n",
        "  return True"
      ],
      "execution_count": null,
      "outputs": []
    },
    {
      "cell_type": "code",
      "metadata": {
        "colab": {
          "base_uri": "https://localhost:8080/"
        },
        "id": "xncpx0rIP3mL",
        "outputId": "e38dccb4-ed2b-489b-a020-8400633a81f2"
      },
      "source": [
        "F2 = [c for c in C2 if good_candidate(c, L1)]\n",
        "print_all(F2)"
      ],
      "execution_count": null,
      "outputs": [
        {
          "output_type": "stream",
          "text": [
            "set(['A', 'C'])\n",
            "set(['A', 'B'])\n",
            "set(['A', 'E'])\n",
            "set(['C', 'B'])\n",
            "set(['C', 'E'])\n",
            "set(['B', 'E'])\n"
          ],
          "name": "stdout"
        }
      ]
    },
    {
      "cell_type": "markdown",
      "metadata": {
        "id": "mkq1VExaP3mL"
      },
      "source": [
        "Well, it seems that every candidate is a good one. Anyway, now we have the finalists!\n",
        "For the final round, you might have guessed it:\n",
        "We simply check the support to see if each item set is frequent enough!"
      ]
    },
    {
      "cell_type": "code",
      "metadata": {
        "colab": {
          "base_uri": "https://localhost:8080/"
        },
        "id": "LMdZ6fyxP3mL",
        "outputId": "79729f8a-0d8d-4d73-b65c-eb3a18206f7c"
      },
      "source": [
        "L2 = [f for f in F2 if support(f, T) >= smin]\n",
        "print(L2)"
      ],
      "execution_count": null,
      "outputs": [
        {
          "output_type": "stream",
          "text": [
            "[set(['A', 'C']), set(['A', 'B']), set(['A', 'E']), set(['C', 'B']), set(['C', 'E']), set(['B', 'E'])]\n"
          ],
          "name": "stdout"
        }
      ]
    },
    {
      "cell_type": "markdown",
      "metadata": {
        "id": "64kEyIRrP3mL"
      },
      "source": [
        "Again, all of them are frequent enough! So, now we have the 2-itemsets."
      ]
    },
    {
      "cell_type": "markdown",
      "metadata": {
        "id": "y6yQhILNP3mM"
      },
      "source": [
        "### Moving On"
      ]
    },
    {
      "cell_type": "markdown",
      "metadata": {
        "id": "5cksQCkkP3mM"
      },
      "source": [
        "Now, let's generate `L3`."
      ]
    },
    {
      "cell_type": "code",
      "metadata": {
        "id": "5t4SBt59P3mM"
      },
      "source": [
        "def generate_candidates(P, k):\n",
        "  return subsets(union_all(P), k)"
      ],
      "execution_count": null,
      "outputs": []
    },
    {
      "cell_type": "code",
      "metadata": {
        "colab": {
          "base_uri": "https://localhost:8080/"
        },
        "id": "UhuTNzW_P3mM",
        "outputId": "8e6366fd-88ac-4c5a-e434-af2017208695"
      },
      "source": [
        "C3 = generate_candidates(L2, 3)\n",
        "print_all(C3)"
      ],
      "execution_count": null,
      "outputs": [
        {
          "output_type": "stream",
          "text": [
            "set([])\n",
            "set(['A', 'C', 'B'])\n",
            "set(['A', 'C', 'E'])\n",
            "set(['A', 'B', 'E'])\n",
            "set(['C', 'B', 'E'])\n"
          ],
          "name": "stdout"
        }
      ]
    },
    {
      "cell_type": "code",
      "metadata": {
        "colab": {
          "base_uri": "https://localhost:8080/"
        },
        "id": "kAhy1BYpP3mM",
        "outputId": "d1061edb-e933-4a49-bfc5-b36628030f10"
      },
      "source": [
        "F3 = [c for c in C3\n",
        "         if good_candidate(c, L2)]\n",
        "print_all(F3)"
      ],
      "execution_count": null,
      "outputs": [
        {
          "output_type": "stream",
          "text": [
            "set(['A', 'C', 'B'])\n",
            "set(['A', 'C', 'E'])\n",
            "set(['A', 'B', 'E'])\n",
            "set(['C', 'B', 'E'])\n"
          ],
          "name": "stdout"
        }
      ]
    },
    {
      "cell_type": "code",
      "metadata": {
        "colab": {
          "base_uri": "https://localhost:8080/"
        },
        "id": "jkAKnqcHP3mM",
        "outputId": "09d22178-d97a-4be2-897c-0b82d6cea282"
      },
      "source": [
        "L3 = [f for f in F3\n",
        "         if support(f, T) >= smin]\n",
        "print_all(L3)"
      ],
      "execution_count": null,
      "outputs": [
        {
          "output_type": "stream",
          "text": [
            "set(['A', 'C', 'B'])\n",
            "set(['A', 'C', 'E'])\n",
            "set(['A', 'B', 'E'])\n",
            "set(['C', 'B', 'E'])\n"
          ],
          "name": "stdout"
        }
      ]
    },
    {
      "cell_type": "markdown",
      "metadata": {
        "id": "KDe1skweP3mM"
      },
      "source": [
        "### Generalizing It\n",
        "\n",
        "We can turn the above steps into this function:"
      ]
    },
    {
      "cell_type": "code",
      "metadata": {
        "id": "DI2rScCQP3mM"
      },
      "source": [
        "def frequent_k(P, k, T):\n",
        "  C = generate_candidates(P, k)\n",
        "  F = [c for c in C if good_candidate(c, P)]\n",
        "  return [f for f in F if support(f, T) >= smin]"
      ],
      "execution_count": null,
      "outputs": []
    },
    {
      "cell_type": "markdown",
      "metadata": {
        "id": "SL-eNNTBP3mM"
      },
      "source": [
        "We then use that function to generate `L4`."
      ]
    },
    {
      "cell_type": "code",
      "metadata": {
        "colab": {
          "base_uri": "https://localhost:8080/"
        },
        "id": "tpyK2NLmP3mM",
        "outputId": "76236af3-c96b-4a74-bf11-fb6f9cf2a330"
      },
      "source": [
        "L4 = frequent_k(L3, 4, T)\n",
        "L4"
      ],
      "execution_count": null,
      "outputs": [
        {
          "output_type": "stream",
          "text": [
            "set([])\n"
          ],
          "name": "stdout"
        },
        {
          "output_type": "execute_result",
          "data": {
            "text/plain": [
              "[{'A', 'B', 'C', 'E'}]"
            ]
          },
          "metadata": {
            "tags": []
          },
          "execution_count": 42
        }
      ]
    },
    {
      "cell_type": "markdown",
      "metadata": {
        "id": "zLcvObisP3mM"
      },
      "source": [
        "Finally, generating `L5` will return no itemsets, which concludes the Apriori algorithm:"
      ]
    },
    {
      "cell_type": "code",
      "metadata": {
        "colab": {
          "base_uri": "https://localhost:8080/"
        },
        "id": "izpxXhYvP3mM",
        "outputId": "cfbcf9dd-7378-485b-b274-4ffd71614875"
      },
      "source": [
        "L5 = frequent_k(L4, 5, T)\n",
        "L5"
      ],
      "execution_count": null,
      "outputs": [
        {
          "output_type": "stream",
          "text": [
            "set([])\n"
          ],
          "name": "stdout"
        },
        {
          "output_type": "execute_result",
          "data": {
            "text/plain": [
              "[]"
            ]
          },
          "metadata": {
            "tags": []
          },
          "execution_count": 43
        }
      ]
    },
    {
      "cell_type": "markdown",
      "metadata": {
        "id": "4bZS0RjpP3mN"
      },
      "source": [
        "Putting It Together\n",
        "-------------------\n",
        "\n",
        "We take all the previous answers to find the frequent itemsets!"
      ]
    },
    {
      "cell_type": "code",
      "metadata": {
        "colab": {
          "base_uri": "https://localhost:8080/"
        },
        "id": "HWNwOVMAP3mN",
        "outputId": "25fdf938-f20a-4955-e7c9-a10611d97e1e"
      },
      "source": [
        "L1 + L2 + L3 + L4 + L5  #+ gives union of all lists. It is given by sympy."
      ],
      "execution_count": null,
      "outputs": [
        {
          "output_type": "execute_result",
          "data": {
            "text/plain": [
              "[{'A'},\n",
              " {'C'},\n",
              " {'B'},\n",
              " {'E'},\n",
              " {'A', 'C'},\n",
              " {'A', 'B'},\n",
              " {'A', 'E'},\n",
              " {'B', 'C'},\n",
              " {'C', 'E'},\n",
              " {'B', 'E'},\n",
              " {'A', 'B', 'C'},\n",
              " {'A', 'C', 'E'},\n",
              " {'A', 'B', 'E'},\n",
              " {'B', 'C', 'E'},\n",
              " {'A', 'B', 'C', 'E'}]"
            ]
          },
          "metadata": {
            "tags": []
          },
          "execution_count": 44
        }
      ]
    },
    {
      "cell_type": "markdown",
      "metadata": {
        "id": "6rbOPgDtP3mN"
      },
      "source": [
        "Summing It Up\n",
        "-------------\n",
        "\n",
        "Finally, here's the apriori algorithm!"
      ]
    },
    {
      "cell_type": "code",
      "metadata": {
        "id": "rotClbJ5P3mU"
      },
      "source": [
        "def apriori(T):\n",
        "  result = []\n",
        "  L = frequent_1(T)\n",
        "  k = 1\n",
        "  while len(L) > 0:\n",
        "    result += L\n",
        "    k += 1\n",
        "    L = frequent_k(L, k, T)\n",
        "  return result"
      ],
      "execution_count": null,
      "outputs": []
    },
    {
      "cell_type": "code",
      "metadata": {
        "id": "ejgMjWbWP3mU",
        "colab": {
          "base_uri": "https://localhost:8080/"
        },
        "outputId": "822a4949-c68b-4a56-bd71-098c97a8af38"
      },
      "source": [
        "L = apriori(T)\n",
        "L"
      ],
      "execution_count": null,
      "outputs": [
        {
          "output_type": "stream",
          "text": [
            "set([])\n",
            "('Items:', set(['A', 'C', 'B', 'E', 'D']))\n",
            "set([])\n",
            "set([])\n",
            "set([])\n",
            "set([])\n"
          ],
          "name": "stdout"
        },
        {
          "output_type": "execute_result",
          "data": {
            "text/plain": [
              "[{'A'},\n",
              " {'C'},\n",
              " {'B'},\n",
              " {'E'},\n",
              " {'A', 'C'},\n",
              " {'A', 'B'},\n",
              " {'A', 'E'},\n",
              " {'B', 'C'},\n",
              " {'C', 'E'},\n",
              " {'B', 'E'},\n",
              " {'A', 'B', 'C'},\n",
              " {'A', 'C', 'E'},\n",
              " {'A', 'B', 'E'},\n",
              " {'B', 'C', 'E'},\n",
              " {'A', 'B', 'C', 'E'}]"
            ]
          },
          "metadata": {
            "tags": []
          },
          "execution_count": 46
        }
      ]
    },
    {
      "cell_type": "markdown",
      "metadata": {
        "id": "OYRV1DM0P3mU"
      },
      "source": [
        "For each frequent itemsets, we generate rules from it."
      ]
    },
    {
      "cell_type": "code",
      "metadata": {
        "id": "z2qA62V_P3mU",
        "colab": {
          "base_uri": "https://localhost:8080/"
        },
        "outputId": "a0f34a6f-464c-41b7-98e0-e03c316d2db8"
      },
      "source": [
        "cmin = 0.75\n",
        "\n",
        "[rule\n",
        "  for itemset in L\n",
        "    for rule in find_rules(itemset, T)]"
      ],
      "execution_count": null,
      "outputs": [
        {
          "output_type": "execute_result",
          "data": {
            "text/plain": [
              "[({'A'}, {'C'}),\n",
              " ({'C'}, {'A'}),\n",
              " ({'C'}, {'B'}),\n",
              " ({'B'}, {'C'}),\n",
              " ({'C'}, {'E'}),\n",
              " ({'E'}, {'C'}),\n",
              " ({'B'}, {'E'}),\n",
              " ({'E'}, {'B'}),\n",
              " ({'A', 'B'}, {'C'}),\n",
              " ({'A', 'E'}, {'C'}),\n",
              " ({'A', 'B'}, {'E'}),\n",
              " ({'A', 'E'}, {'B'}),\n",
              " ({'C'}, {'B', 'E'}),\n",
              " ({'B'}, {'C', 'E'}),\n",
              " ({'E'}, {'B', 'C'}),\n",
              " ({'B', 'C'}, {'E'}),\n",
              " ({'C', 'E'}, {'B'}),\n",
              " ({'B', 'E'}, {'C'}),\n",
              " ({'A', 'B'}, {'C', 'E'}),\n",
              " ({'A', 'E'}, {'B', 'C'}),\n",
              " ({'A', 'B', 'C'}, {'E'}),\n",
              " ({'A', 'C', 'E'}, {'B'}),\n",
              " ({'A', 'B', 'E'}, {'C'})]"
            ]
          },
          "metadata": {
            "tags": []
          },
          "execution_count": 47
        }
      ]
    },
    {
      "cell_type": "markdown",
      "metadata": {
        "id": "Gm9F57SvP3mU"
      },
      "source": [
        "The Lift\n",
        "--------\n",
        "\n",
        "How can you be sure that there really is a correlation between the itemset $X$ and $Y$?\n",
        "\n",
        "- 90% of customers buy coffee.\n",
        "- 25% of customers buy tea.\n",
        "- 20% of customers buy both.\n",
        "\n",
        "After filling Venn diagram, here's our transactions:"
      ]
    },
    {
      "cell_type": "code",
      "metadata": {
        "id": "Xf-CQLvPP3mU"
      },
      "source": [
        "T = (\n",
        "  20 * [{'coffee', 'tea'}] +\n",
        "  70 * [{'coffee'}] +\n",
        "   5 * [{'tea'}] +\n",
        "   5 * [set()]  #5% of people neigther buy coffee nor tea.\n",
        ")"
      ],
      "execution_count": null,
      "outputs": []
    },
    {
      "cell_type": "markdown",
      "metadata": {
        "id": "TK9k9YvFP3mU"
      },
      "source": [
        "Given $\\{\\text{coffee}, \\text{tea}\\}$ is a frequent itemset,\n",
        "let's mine some rules!"
      ]
    },
    {
      "cell_type": "code",
      "metadata": {
        "id": "wiMqLqGcP3mU",
        "colab": {
          "base_uri": "https://localhost:8080/"
        },
        "outputId": "158abb12-fed8-46b1-8400-e1549a0ae0f9"
      },
      "source": [
        "rules = find_rules({'coffee', 'tea'}, T)\n",
        "rules"
      ],
      "execution_count": null,
      "outputs": [
        {
          "output_type": "execute_result",
          "data": {
            "text/plain": [
              "[({'tea'}, {'coffee'})]"
            ]
          },
          "metadata": {
            "tags": []
          },
          "execution_count": 51
        }
      ]
    },
    {
      "cell_type": "markdown",
      "metadata": {
        "id": "BF6ezleCP3mU"
      },
      "source": [
        "Here, we mined the rule $\\{\\text{tea}\\} \\Rightarrow \\{\\text{coffee}\\}$.\n",
        "How confident we are?"
      ]
    },
    {
      "cell_type": "code",
      "metadata": {
        "id": "EbD3afA5P3mU",
        "colab": {
          "base_uri": "https://localhost:8080/"
        },
        "outputId": "48bd88b1-e055-43fe-b3d1-fc47b430b90a"
      },
      "source": [
        "rule = ({'tea'}, {'coffee'})\n",
        "rule_confidence(rule, T)"
      ],
      "execution_count": null,
      "outputs": [
        {
          "output_type": "execute_result",
          "data": {
            "text/plain": [
              "0.8"
            ]
          },
          "metadata": {
            "tags": []
          },
          "execution_count": 52
        }
      ]
    },
    {
      "cell_type": "markdown",
      "metadata": {
        "id": "mY3VpLcIP3mV"
      },
      "source": [
        "We found that __80% of customers that buy tea also buys coffee__.\n",
        "We're highly confident, at 80 percent!\n",
        "But is 80% good?\n",
        "\n",
        "Does it really mean that the customer buys coffee _because_ they buy tea?\n",
        "To find out, let's remove the condition.\n",
        "Let's see how many people buy coffee \"no matter what:\""
      ]
    },
    {
      "cell_type": "code",
      "metadata": {
        "id": "jkoJZjF9P3mV",
        "colab": {
          "base_uri": "https://localhost:8080/"
        },
        "outputId": "be8567df-aa02-40e9-d952-8cba195cadfb"
      },
      "source": [
        "rule = (set(), {'coffee'})\n",
        "rule_confidence(rule, T)"
      ],
      "execution_count": null,
      "outputs": [
        {
          "output_type": "execute_result",
          "data": {
            "text/plain": [
              "0.9"
            ]
          },
          "metadata": {
            "tags": []
          },
          "execution_count": 53
        }
      ]
    },
    {
      "cell_type": "markdown",
      "metadata": {
        "id": "OQSSVrzbP3mV"
      },
      "source": [
        "This is called the unconditional, _expected confidence_.\n",
        "As you see, people who buy tea are actually less likely to buy coffee.\n",
        "This is a _negative correlation_.\n",
        "\n",
        "To quantify this correlation, we use a measure called \"lift:\"\n",
        "\n",
        "$$ L(X \\Rightarrow Y) = \\frac{c(X \\Rightarrow Y)}{c(\\varnothing \\Rightarrow Y)}$$"
      ]
    },
    {
      "cell_type": "code",
      "metadata": {
        "id": "T3tQfezmP3mV"
      },
      "source": [
        "def rule_lift(rule, T):\n",
        "  (x, y)=rule\n",
        "  return (rule_confidence((x, y), T)\n",
        "        / rule_confidence((set(), y), T)) #fraction says out people who buy coffee, how many are influence by buying tea. "
      ],
      "execution_count": null,
      "outputs": []
    },
    {
      "cell_type": "code",
      "metadata": {
        "id": "knkfkaEFP3mV",
        "colab": {
          "base_uri": "https://localhost:8080/"
        },
        "outputId": "7c03eed7-56e6-4314-f707-aad5e42210b5"
      },
      "source": [
        "rule = ({'tea'}, {'coffee'})\n",
        "rule_lift(rule, T)"
      ],
      "execution_count": null,
      "outputs": [
        {
          "output_type": "execute_result",
          "data": {
            "text/plain": [
              "0.888888888888889"
            ]
          },
          "metadata": {
            "tags": []
          },
          "execution_count": 58
        }
      ]
    },
    {
      "cell_type": "markdown",
      "metadata": {
        "id": "1mpX3ZU9P3mV"
      },
      "source": [
        "The \"lift\" measure tells us the correlation of the rule.\n",
        "\n",
        "- $L > 1 \\Rightarrow$ positive correlation\n",
        "- $L = 1 \\Rightarrow$ independence\n",
        "- $L < 1 \\Rightarrow$ negative correlation"
      ]
    },
    {
      "cell_type": "markdown",
      "metadata": {
        "id": "dTI1N92zP3mV"
      },
      "source": [
        "And this concludes this notebook regarding association rules and apriori algorithm."
      ]
    },
    {
      "cell_type": "markdown",
      "metadata": {
        "id": "CdvfEPHqP3mW"
      },
      "source": [
        "# Problem on computing association rules with 100% confidence"
      ]
    },
    {
      "cell_type": "markdown",
      "metadata": {
        "id": "ZqVeuE6lP3mW"
      },
      "source": [
        "Imagine there are 100 baskets, numbered 1,2,...,100, and 100 items, similarly numbered. Item i is in basket j if and only if i divides j evenly. For example, basket 24 is the set of items {1,2,3,4,6,8,12,24}.  Which of the following rules has 100% confidence?\n",
        "\n",
        "{1,2}-> 4; {1}-> 2; {1,4,7}-> 14; {1,3,6}-> 12; {4,6}-> 12; {8,12}-> 96; {4,6}-> 24; {1,3,6}-> 12"
      ]
    },
    {
      "cell_type": "code",
      "metadata": {
        "id": "clkTwVSuP3mW"
      },
      "source": [
        "baskets = range(1,101)  #Baskets are in the range 1 to 100. Each basket has divisors of the basket.\n",
        "items = range(1,101)    \n",
        "\n",
        "# Create transactions\n",
        "transactions = []\n",
        "\n",
        "for i in baskets:\n",
        "    basket = []\n",
        "    for item in items:\n",
        "        if i % item == 0:\n",
        "            basket.append(item)\n",
        "    transactions.append(basket)"
      ],
      "execution_count": null,
      "outputs": []
    },
    {
      "cell_type": "code",
      "metadata": {
        "id": "Kt1BXOqFP3mW",
        "colab": {
          "base_uri": "https://localhost:8080/"
        },
        "outputId": "c56590a6-fc5d-4b13-ebba-2a2583a26e62"
      },
      "source": [
        "transactions[47]  #it is pointing to basket number 48. It has all divisors of 24."
      ],
      "execution_count": null,
      "outputs": [
        {
          "output_type": "execute_result",
          "data": {
            "text/plain": [
              "[1, 2, 3, 4, 6, 8, 12, 16, 24, 48]"
            ]
          },
          "metadata": {
            "tags": []
          },
          "execution_count": 61
        }
      ]
    },
    {
      "cell_type": "code",
      "metadata": {
        "id": "o_JmxbbEP3mW"
      },
      "source": [
        "#Computes support for the query set\n",
        "def check(transactions,query):\n",
        "    count=0\n",
        "    for t in transactions:\n",
        "        query_in = True\n",
        "        for q in query:\n",
        "            if q not in t:\n",
        "                query_in = False\n",
        "        if query_in:\n",
        "            count+=1\n",
        "    return count"
      ],
      "execution_count": null,
      "outputs": []
    },
    {
      "cell_type": "code",
      "metadata": {
        "id": "BRgUgZsRP3mW",
        "colab": {
          "base_uri": "https://localhost:8080/"
        },
        "outputId": "94fda453-0d48-4032-e4de-c58525058fa9"
      },
      "source": [
        "check(transactions,{1,2})"
      ],
      "execution_count": null,
      "outputs": [
        {
          "output_type": "execute_result",
          "data": {
            "text/plain": [
              "50"
            ]
          },
          "metadata": {
            "tags": []
          },
          "execution_count": 63
        }
      ]
    },
    {
      "cell_type": "code",
      "metadata": {
        "id": "BYshAcF5P3mW"
      },
      "source": [
        "def confidence(num,denom):  #num is numerator, denom is denominator.\n",
        "    count_denom = check(transactions,denom)\n",
        "    count_num = check(transactions,num)\n",
        "    confidence = count_num /(1.0* count_denom ) * 100\n",
        "    return confidence"
      ],
      "execution_count": null,
      "outputs": []
    },
    {
      "cell_type": "code",
      "metadata": {
        "id": "N_Qza2v8P3mW",
        "colab": {
          "base_uri": "https://localhost:8080/"
        },
        "outputId": "8b854a29-0a95-418c-a3f0-9cdc58672492"
      },
      "source": [
        "print(\"{1,2}-> 4,Condidence\",confidence([1,2,4],[1,2]))   \n",
        "print(\"{1}-> 2,Condidence\",confidence([1,2],[1]))   \n",
        "print(\"{1,4,7}-> 14,Condidence\",confidence([1,4,7,14],[1,4,7]))   \n",
        "print(\"{1,3,6}-> 12,Condidence\",confidence([1,3,6,12],[1,3,6]))   \n",
        "print(\"{4,6}-> 12,Condidence\",confidence([4,6,12],[4,6]))   \n",
        "print(\"{8,12}-> 96,Condidence\",confidence([8,12,96],[8,12]))   \n",
        "print(\"{4,6}-> 24,Condidence\",confidence([4,6,24],[4,6]))   \n",
        "print(\"{1,3,6}-> 12,Condidence\",confidence([1,3,6,12],[1,3,6]))"
      ],
      "execution_count": null,
      "outputs": [
        {
          "output_type": "stream",
          "text": [
            "('{1,2}-> 4,Condidence', 50.0)\n",
            "('{1}-> 2,Condidence', 50.0)\n",
            "('{1,4,7}-> 14,Condidence', 100.0)\n",
            "('{1,3,6}-> 12,Condidence', 50.0)\n",
            "('{4,6}-> 12,Condidence', 100.0)\n",
            "('{8,12}-> 96,Condidence', 25.0)\n",
            "('{4,6}-> 24,Condidence', 50.0)\n",
            "('{1,3,6}-> 12,Condidence', 50.0)\n"
          ],
          "name": "stdout"
        }
      ]
    },
    {
      "cell_type": "markdown",
      "metadata": {
        "id": "xCKlWuE0P3mX"
      },
      "source": [
        "# Orange way of computing association rules and frequent patterns\n",
        "pip install orange3\n",
        "\n",
        "pip install orange3-associate"
      ]
    },
    {
      "cell_type": "code",
      "metadata": {
        "id": "x6sjqNt_P3mX"
      },
      "source": [
        "T = [[1,    3, 4   ],\n",
        "[   2, 3,    5],\n",
        "[1, 2, 3,    5],\n",
        "[   2,       5]]\n",
        "\n",
        "#orange library has automated methods of finding association rules."
      ],
      "execution_count": null,
      "outputs": []
    },
    {
      "cell_type": "code",
      "metadata": {
        "id": "Q_tdPwzPP3mX",
        "colab": {
          "base_uri": "https://localhost:8080/",
          "height": 350
        },
        "outputId": "888f1333-51dc-43b5-de03-bfd7106b33fc"
      },
      "source": [
        "import orange3\n",
        "#We can enumerate all frequent itemsets with support greater than two transactions:\n",
        "from orangecontrib.associate.fpgrowth import *  \n",
        "itemsets = frequent_itemsets(T, 2)  #support here is 2 out of 4 transactions i.e., 50%"
      ],
      "execution_count": null,
      "outputs": [
        {
          "output_type": "error",
          "ename": "ImportError",
          "evalue": "ignored",
          "traceback": [
            "\u001b[0;31m\u001b[0m",
            "\u001b[0;31mImportError\u001b[0mTraceback (most recent call last)",
            "\u001b[0;32m<ipython-input-86-aea011c28a73>\u001b[0m in \u001b[0;36m<module>\u001b[0;34m()\u001b[0m\n\u001b[0;32m----> 1\u001b[0;31m \u001b[0;32mimport\u001b[0m \u001b[0morange3\u001b[0m\u001b[0;34m\u001b[0m\u001b[0m\n\u001b[0m\u001b[1;32m      2\u001b[0m \u001b[0;31m#We can enumerate all frequent itemsets with support greater than two transactions:\u001b[0m\u001b[0;34m\u001b[0m\u001b[0;34m\u001b[0m\u001b[0m\n\u001b[1;32m      3\u001b[0m \u001b[0;32mfrom\u001b[0m \u001b[0morangecontrib\u001b[0m\u001b[0;34m.\u001b[0m\u001b[0massociate\u001b[0m\u001b[0;34m.\u001b[0m\u001b[0mfpgrowth\u001b[0m \u001b[0;32mimport\u001b[0m \u001b[0;34m*\u001b[0m\u001b[0;34m\u001b[0m\u001b[0m\n\u001b[1;32m      4\u001b[0m \u001b[0mitemsets\u001b[0m \u001b[0;34m=\u001b[0m \u001b[0mfrequent_itemsets\u001b[0m\u001b[0;34m(\u001b[0m\u001b[0mT\u001b[0m\u001b[0;34m,\u001b[0m \u001b[0;36m2\u001b[0m\u001b[0;34m)\u001b[0m  \u001b[0;31m#support here is 2 out of 4 transactions i.e., 50%\u001b[0m\u001b[0;34m\u001b[0m\u001b[0m\n",
            "\u001b[0;31mImportError\u001b[0m: No module named orange3",
            "",
            "\u001b[0;31m---------------------------------------------------------------------------\u001b[0;32m\nNOTE: If your import is failing due to a missing package, you can\nmanually install dependencies using either !pip or !apt.\n\nTo view examples of installing some common dependencies, click the\n\"Open Examples\" button below.\n\u001b[0;31m---------------------------------------------------------------------------\u001b[0m\n"
          ]
        }
      ]
    },
    {
      "cell_type": "code",
      "metadata": {
        "id": "CXIWASo0P3mX",
        "outputId": "a1747a51-4537-4b91-8718-af480596cce2"
      },
      "source": [
        "itemsets\n",
        "list(itemsets)"
      ],
      "execution_count": null,
      "outputs": [
        {
          "output_type": "execute_result",
          "data": {
            "text/plain": [
              "[(frozenset({1}), 2),\n",
              " (frozenset({2}), 3),\n",
              " (frozenset({3}), 3),\n",
              " (frozenset({1, 3}), 2),\n",
              " (frozenset({2, 3}), 2),\n",
              " (frozenset({5}), 3),\n",
              " (frozenset({2, 5}), 3),\n",
              " (frozenset({3, 5}), 2),\n",
              " (frozenset({2, 3, 5}), 2)]"
            ]
          },
          "metadata": {
            "tags": []
          },
          "execution_count": 3
        }
      ]
    },
    {
      "cell_type": "markdown",
      "metadata": {
        "id": "Cs0S4KUZP3mX"
      },
      "source": [
        "Note, functions in this module produce generators. The results space can explode quite quickly and can easily be too large to fit in your RAM. By using generators, you can filter the results to your liking as you pass them"
      ]
    },
    {
      "cell_type": "code",
      "metadata": {
        "id": "yV_wDmU5P3mX",
        "colab": {
          "base_uri": "https://localhost:8080/",
          "height": 350
        },
        "outputId": "b4f90709-1c7c-42c0-b49a-2a3dd5433716"
      },
      "source": [
        "#We can try it with a larger and more real-world database of categorical values:\n",
        "import Orange\n",
        "data = Orange.data.Table('zoo')\n",
        "data\n",
        "\n",
        "#Zoo Data has 101 rows with data about 16 attributes they have\n",
        "\n",
        "#Along with 16 features they have, there is a animal class label i.e., are they a mammal or fish etc... "
      ],
      "execution_count": null,
      "outputs": [
        {
          "output_type": "error",
          "ename": "ImportError",
          "evalue": "ignored",
          "traceback": [
            "\u001b[0;31m\u001b[0m",
            "\u001b[0;31mImportError\u001b[0mTraceback (most recent call last)",
            "\u001b[0;32m<ipython-input-81-a663668a7d8b>\u001b[0m in \u001b[0;36m<module>\u001b[0;34m()\u001b[0m\n\u001b[1;32m      1\u001b[0m \u001b[0;31m#We can try it with a larger and more real-world database of categorical values:\u001b[0m\u001b[0;34m\u001b[0m\u001b[0;34m\u001b[0m\u001b[0m\n\u001b[0;32m----> 2\u001b[0;31m \u001b[0;32mimport\u001b[0m \u001b[0mOrange\u001b[0m\u001b[0;34m\u001b[0m\u001b[0m\n\u001b[0m\u001b[1;32m      3\u001b[0m \u001b[0mdata\u001b[0m \u001b[0;34m=\u001b[0m \u001b[0mOrange\u001b[0m\u001b[0;34m.\u001b[0m\u001b[0mdata\u001b[0m\u001b[0;34m.\u001b[0m\u001b[0mTable\u001b[0m\u001b[0;34m(\u001b[0m\u001b[0;34m'zoo'\u001b[0m\u001b[0;34m)\u001b[0m\u001b[0;34m\u001b[0m\u001b[0m\n\u001b[1;32m      4\u001b[0m \u001b[0mdata\u001b[0m\u001b[0;34m\u001b[0m\u001b[0m\n",
            "\u001b[0;31mImportError\u001b[0m: No module named Orange",
            "",
            "\u001b[0;31m---------------------------------------------------------------------------\u001b[0;32m\nNOTE: If your import is failing due to a missing package, you can\nmanually install dependencies using either !pip or !apt.\n\nTo view examples of installing some common dependencies, click the\n\"Open Examples\" button below.\n\u001b[0;31m---------------------------------------------------------------------------\u001b[0m\n"
          ]
        }
      ]
    },
    {
      "cell_type": "code",
      "metadata": {
        "id": "1vJY8nSKP3mY",
        "outputId": "5581faea-3f19-4d50-c9c1-880e8776ef61"
      },
      "source": [
        "data.n_rows\n",
        "data.X.shape"
      ],
      "execution_count": null,
      "outputs": [
        {
          "output_type": "execute_result",
          "data": {
            "text/plain": [
              "(101, 16)"
            ]
          },
          "metadata": {
            "tags": []
          },
          "execution_count": 5
        }
      ]
    },
    {
      "cell_type": "code",
      "metadata": {
        "id": "kPIkuXr5P3mY",
        "outputId": "37f3234f-ae17-4f0f-b68a-fd5d185bf364"
      },
      "source": [
        "data.domain"
      ],
      "execution_count": null,
      "outputs": [
        {
          "output_type": "execute_result",
          "data": {
            "text/plain": [
              "[hair, feathers, eggs, milk, airborne, aquatic, predator, toothed, backbone, breathes, venomous, fins, legs, tail, domestic, catsize | type] {name}"
            ]
          },
          "metadata": {
            "tags": []
          },
          "execution_count": 6
        }
      ]
    },
    {
      "cell_type": "code",
      "metadata": {
        "id": "_45KUwPfP3mY",
        "outputId": "bd440535-27bc-4251-a6c2-6711b0b869fb"
      },
      "source": [
        "for i in data.metas:\n",
        "    print(i, sep=\",\",end=\"\")\n",
        "data.metas.shape"
      ],
      "execution_count": null,
      "outputs": [
        {
          "output_type": "stream",
          "text": [
            "['aardvark']['antelope']['bass']['bear']['boar']['buffalo']['calf']['carp']['catfish']['cavy']['cheetah']['chicken']['chub']['clam']['crab']['crayfish']['crow']['deer']['dogfish']['dolphin']['dove']['duck']['elephant']['flamingo']['flea']['frog']['frog']['fruitbat']['giraffe']['girl']['gnat']['goat']['gorilla']['gull']['haddock']['hamster']['hare']['hawk']['herring']['honeybee']['housefly']['kiwi']['ladybird']['lark']['leopard']['lion']['lobster']['lynx']['mink']['mole']['mongoose']['moth']['newt']['octopus']['opossum']['oryx']['ostrich']['parakeet']['penguin']['pheasant']['pike']['piranha']['pitviper']['platypus']['polecat']['pony']['porpoise']['puma']['pussycat']['raccoon']['reindeer']['rhea']['scorpion']['seahorse']['seal']['sealion']['seasnake']['seawasp']['skimmer']['skua']['slowworm']['slug']['sole']['sparrow']['squirrel']['starfish']['stingray']['swan']['termite']['toad']['tortoise']['tuatara']['tuna']['vampire']['vole']['vulture']['wallaby']['wasp']['wolf']['worm']['wren']"
          ],
          "name": "stdout"
        },
        {
          "output_type": "execute_result",
          "data": {
            "text/plain": [
              "(101, 1)"
            ]
          },
          "metadata": {
            "tags": []
          },
          "execution_count": 7
        }
      ]
    },
    {
      "cell_type": "code",
      "metadata": {
        "id": "xVZVgycvP3mY",
        "outputId": "a2170078-5e66-41b5-af17-c6135c18c848"
      },
      "source": [
        "data.domain.class_var.values\n",
        "data.Y"
      ],
      "execution_count": null,
      "outputs": [
        {
          "output_type": "execute_result",
          "data": {
            "text/plain": [
              "array([ 5.,  5.,  2.,  5.,  5.,  5.,  5.,  2.,  2.,  5.,  5.,  1.,  2.,\n",
              "        4.,  4.,  4.,  1.,  5.,  2.,  5.,  1.,  1.,  5.,  1.,  3.,  0.,\n",
              "        0.,  5.,  5.,  5.,  3.,  5.,  5.,  1.,  2.,  5.,  5.,  1.,  2.,\n",
              "        3.,  3.,  1.,  3.,  1.,  5.,  5.,  4.,  5.,  5.,  5.,  5.,  3.,\n",
              "        0.,  4.,  5.,  5.,  1.,  1.,  1.,  1.,  2.,  2.,  6.,  5.,  5.,\n",
              "        5.,  5.,  5.,  5.,  5.,  5.,  1.,  4.,  2.,  5.,  5.,  6.,  4.,\n",
              "        1.,  1.,  6.,  4.,  2.,  1.,  5.,  4.,  2.,  1.,  3.,  0.,  6.,\n",
              "        6.,  2.,  5.,  5.,  1.,  5.,  3.,  5.,  4.,  1.])"
            ]
          },
          "metadata": {
            "tags": []
          },
          "execution_count": 8
        }
      ]
    },
    {
      "cell_type": "code",
      "metadata": {
        "id": "W38AZOoTP3mY"
      },
      "source": [
        "#We can’t use table data directly; we first have to one-hot transform it:\n",
        "X, mapping = OneHot.encode(data, include_class=True)\n",
        "\n",
        "#16 attributes are mapped to 7 animal classes to get 43 attributes."
      ],
      "execution_count": null,
      "outputs": []
    },
    {
      "cell_type": "code",
      "metadata": {
        "id": "h1qwhztSP3mY",
        "outputId": "56360caf-5827-463f-f174-d89494348086"
      },
      "source": [
        "X.shape"
      ],
      "execution_count": null,
      "outputs": [
        {
          "output_type": "execute_result",
          "data": {
            "text/plain": [
              "(101, 43)"
            ]
          },
          "metadata": {
            "tags": []
          },
          "execution_count": 10
        }
      ]
    },
    {
      "cell_type": "code",
      "metadata": {
        "id": "_9zowbuyP3mY",
        "outputId": "ab1b9383-83d9-4f20-b49c-74ff0eafdb4f"
      },
      "source": [
        "type(X)"
      ],
      "execution_count": null,
      "outputs": [
        {
          "output_type": "execute_result",
          "data": {
            "text/plain": [
              "numpy.ndarray"
            ]
          },
          "metadata": {
            "tags": []
          },
          "execution_count": 11
        }
      ]
    },
    {
      "cell_type": "code",
      "metadata": {
        "id": "xt-dAxQoP3mZ",
        "outputId": "f8c07033-e681-4a5c-e574-85bd06504756"
      },
      "source": [
        "X"
      ],
      "execution_count": null,
      "outputs": [
        {
          "output_type": "execute_result",
          "data": {
            "text/plain": [
              "array([[False,  True,  True, ..., False,  True, False],\n",
              "       [False,  True,  True, ..., False,  True, False],\n",
              "       [ True, False,  True, ..., False, False, False],\n",
              "       ..., \n",
              "       [False,  True,  True, ..., False,  True, False],\n",
              "       [ True, False,  True, ...,  True, False, False],\n",
              "       [ True, False, False, ..., False, False, False]], dtype=bool)"
            ]
          },
          "metadata": {
            "tags": []
          },
          "execution_count": 12
        }
      ]
    },
    {
      "cell_type": "code",
      "metadata": {
        "id": "Za25pbMPP3mZ",
        "outputId": "f3f57af1-8c34-41f2-a558-94db627926c0"
      },
      "source": [
        "sorted(mapping.items())"
      ],
      "execution_count": null,
      "outputs": [
        {
          "output_type": "execute_result",
          "data": {
            "text/plain": [
              "[(0, (0, 0)),\n",
              " (1, (0, 1)),\n",
              " (2, (1, 0)),\n",
              " (3, (1, 1)),\n",
              " (4, (2, 0)),\n",
              " (5, (2, 1)),\n",
              " (6, (3, 0)),\n",
              " (7, (3, 1)),\n",
              " (8, (4, 0)),\n",
              " (9, (4, 1)),\n",
              " (10, (5, 0)),\n",
              " (11, (5, 1)),\n",
              " (12, (6, 0)),\n",
              " (13, (6, 1)),\n",
              " (14, (7, 0)),\n",
              " (15, (7, 1)),\n",
              " (16, (8, 0)),\n",
              " (17, (8, 1)),\n",
              " (18, (9, 0)),\n",
              " (19, (9, 1)),\n",
              " (20, (10, 0)),\n",
              " (21, (10, 1)),\n",
              " (22, (11, 0)),\n",
              " (23, (11, 1)),\n",
              " (24, (12, 0)),\n",
              " (25, (12, 1)),\n",
              " (26, (12, 2)),\n",
              " (27, (12, 3)),\n",
              " (28, (12, 4)),\n",
              " (29, (12, 5)),\n",
              " (30, (13, 0)),\n",
              " (31, (13, 1)),\n",
              " (32, (14, 0)),\n",
              " (33, (14, 1)),\n",
              " (34, (15, 0)),\n",
              " (35, (15, 1)),\n",
              " (36, (16, 0)),\n",
              " (37, (16, 1)),\n",
              " (38, (16, 2)),\n",
              " (39, (16, 3)),\n",
              " (40, (16, 4)),\n",
              " (41, (16, 5)),\n",
              " (42, (16, 6))]"
            ]
          },
          "metadata": {
            "tags": []
          },
          "execution_count": 13
        }
      ]
    },
    {
      "cell_type": "code",
      "metadata": {
        "id": "C1HMq8GyP3mZ",
        "outputId": "73e26514-8ab3-4b3e-c5ce-ba62000cd2e3"
      },
      "source": [
        "#We want itemsets with >40% support\n",
        "itemsets = dict(frequent_itemsets(X, .4))\n",
        "len(itemsets)"
      ],
      "execution_count": null,
      "outputs": [
        {
          "output_type": "execute_result",
          "data": {
            "text/plain": [
              "520"
            ]
          },
          "metadata": {
            "tags": []
          },
          "execution_count": 14
        }
      ]
    },
    {
      "cell_type": "code",
      "metadata": {
        "id": "1dfbM6dXP3mZ",
        "outputId": "9d24e942-35f1-4079-f738-0bedb32d73d3"
      },
      "source": [
        "#The transaction-coded items corresponding to class values are:\n",
        "class_items = {item for item, var, _ in OneHot.decode(mapping, data, mapping) if var is data.domain.class_var}\n",
        "sorted(class_items)"
      ],
      "execution_count": null,
      "outputs": [
        {
          "output_type": "execute_result",
          "data": {
            "text/plain": [
              "[36, 37, 38, 39, 40, 41, 42]"
            ]
          },
          "metadata": {
            "tags": []
          },
          "execution_count": 15
        }
      ]
    },
    {
      "cell_type": "code",
      "metadata": {
        "id": "2Uzq1YrmP3mZ",
        "outputId": "2fb4d6a8-9d49-4d5e-ef09-642039a05803"
      },
      "source": [
        "#Now we can generate all association rules that have consequent \n",
        "#equal to one of the class values and >80% confidence (i.e. classification rules):\n",
        "rules = [(P, Q, supp, conf) for P, Q, supp, conf in association_rules(itemsets, .8) if len(Q) == 1 and Q & class_items]\n",
        "len(rules)\n",
        "rules"
      ],
      "execution_count": null,
      "outputs": [
        {
          "output_type": "execute_result",
          "data": {
            "text/plain": [
              "[(frozenset({2, 7, 17, 19, 20}), frozenset({41}), 41, 1.0),\n",
              " (frozenset({2, 7, 17, 19}), frozenset({41}), 41, 1.0),\n",
              " (frozenset({2, 7, 17, 20}), frozenset({41}), 41, 1.0),\n",
              " (frozenset({2, 7, 19, 20}), frozenset({41}), 41, 1.0),\n",
              " (frozenset({2, 17, 19, 20}), frozenset({41}), 41, 0.8723404255319149),\n",
              " (frozenset({7, 17, 19, 20}), frozenset({41}), 41, 1.0),\n",
              " (frozenset({2, 7, 17}), frozenset({41}), 41, 1.0),\n",
              " (frozenset({2, 7, 19}), frozenset({41}), 41, 1.0),\n",
              " (frozenset({2, 17, 19}), frozenset({41}), 41, 0.8367346938775511),\n",
              " (frozenset({7, 17, 19}), frozenset({41}), 41, 1.0),\n",
              " (frozenset({2, 7, 20}), frozenset({41}), 41, 1.0),\n",
              " (frozenset({7, 17, 20}), frozenset({41}), 41, 1.0),\n",
              " (frozenset({7, 19, 20}), frozenset({41}), 41, 1.0),\n",
              " (frozenset({2, 7}), frozenset({41}), 41, 1.0),\n",
              " (frozenset({7, 17}), frozenset({41}), 41, 1.0),\n",
              " (frozenset({7, 19}), frozenset({41}), 41, 1.0),\n",
              " (frozenset({7, 20}), frozenset({41}), 41, 1.0),\n",
              " (frozenset({7}), frozenset({41}), 41, 1.0)]"
            ]
          },
          "metadata": {
            "tags": []
          },
          "execution_count": 16
        }
      ]
    },
    {
      "cell_type": "code",
      "metadata": {
        "id": "jYlwT3BfP3mZ",
        "outputId": "7f0ee0bc-2e7f-4bed-9524-4ab844eb9dc2"
      },
      "source": [
        "#To make them more helpful, we can use mapping to transform the rules’ \n",
        "#items back into table domain values, e.g. for first five rules:\n",
        "names = {item: '{}={}'.format(var.name, val) for item, var, val in OneHot.decode(mapping, data, mapping)}\n",
        "for ante, cons, supp, conf in rules:\n",
        "     print(', '.join(names[i] for i in ante), '-->', names[next(iter(cons))], '(supp: {}, conf: {})'.format(supp, conf))"
      ],
      "execution_count": null,
      "outputs": [
        {
          "output_type": "stream",
          "text": [
            "feathers=0, milk=1, backbone=1, breathes=1, venomous=0 --> type=mammal (supp: 41, conf: 1.0)\n",
            "backbone=1, feathers=0, breathes=1, milk=1 --> type=mammal (supp: 41, conf: 1.0)\n",
            "backbone=1, feathers=0, venomous=0, milk=1 --> type=mammal (supp: 41, conf: 1.0)\n",
            "feathers=0, breathes=1, venomous=0, milk=1 --> type=mammal (supp: 41, conf: 1.0)\n",
            "backbone=1, feathers=0, breathes=1, venomous=0 --> type=mammal (supp: 41, conf: 0.8723404255319149)\n",
            "backbone=1, breathes=1, venomous=0, milk=1 --> type=mammal (supp: 41, conf: 1.0)\n",
            "backbone=1, feathers=0, milk=1 --> type=mammal (supp: 41, conf: 1.0)\n",
            "feathers=0, breathes=1, milk=1 --> type=mammal (supp: 41, conf: 1.0)\n",
            "backbone=1, feathers=0, breathes=1 --> type=mammal (supp: 41, conf: 0.8367346938775511)\n",
            "backbone=1, breathes=1, milk=1 --> type=mammal (supp: 41, conf: 1.0)\n",
            "feathers=0, venomous=0, milk=1 --> type=mammal (supp: 41, conf: 1.0)\n",
            "backbone=1, venomous=0, milk=1 --> type=mammal (supp: 41, conf: 1.0)\n",
            "breathes=1, venomous=0, milk=1 --> type=mammal (supp: 41, conf: 1.0)\n",
            "feathers=0, milk=1 --> type=mammal (supp: 41, conf: 1.0)\n",
            "backbone=1, milk=1 --> type=mammal (supp: 41, conf: 1.0)\n",
            "breathes=1, milk=1 --> type=mammal (supp: 41, conf: 1.0)\n",
            "venomous=0, milk=1 --> type=mammal (supp: 41, conf: 1.0)\n",
            "milk=1 --> type=mammal (supp: 41, conf: 1.0)\n"
          ],
          "name": "stdout"
        }
      ]
    },
    {
      "cell_type": "markdown",
      "metadata": {
        "id": "jSX-oSCmP3mZ"
      },
      "source": [
        "More examples here: https://orange3-associate.readthedocs.io/en/latest/scripting.html#fpgrowth.frequent_itemsets"
      ]
    }
  ]
}